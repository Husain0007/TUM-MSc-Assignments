{
 "cells": [
  {
   "cell_type": "code",
   "execution_count": 1,
   "id": "variable-senator",
   "metadata": {},
   "outputs": [],
   "source": [
    "import numpy as np\n",
    "import math\n",
    "import matplotlib.pyplot as plt"
   ]
  },
  {
   "cell_type": "code",
   "execution_count": 2,
   "id": "incorporate-locking",
   "metadata": {},
   "outputs": [],
   "source": [
    "%matplotlib inline"
   ]
  },
  {
   "cell_type": "markdown",
   "id": "trained-columbus",
   "metadata": {},
   "source": [
    "<i>chip</i> = $|\\chi'\\rangle = \\frac{1}{\\sqrt{8}}\\sum \\limits_{j=0}^{7}|2+4j\\rangle \\otimes |4\\rangle$"
   ]
  },
  {
   "cell_type": "code",
   "execution_count": 3,
   "id": "unlike-algebra",
   "metadata": {},
   "outputs": [
    {
     "name": "stdout",
     "output_type": "stream",
     "text": [
      "[0.         0.         0.35355339 0.         0.         0.\n",
      " 0.35355339 0.         0.         0.         0.35355339 0.\n",
      " 0.         0.         0.35355339 0.         0.         0.\n",
      " 0.35355339 0.         0.         0.         0.35355339 0.\n",
      " 0.         0.         0.35355339 0.         0.         0.\n",
      " 0.35355339 0.        ]\n"
     ]
    }
   ],
   "source": [
    "chip = np.zeros(32)\n",
    "for i in range(2, 31, 4):\n",
    "    chip[i] = 1\n",
    "#Normalizing the vector\n",
    "chip = chip/math.sqrt(8)\n",
    "print(chip)"
   ]
  },
  {
   "cell_type": "code",
   "execution_count": 4,
   "id": "electric-small",
   "metadata": {},
   "outputs": [
    {
     "data": {
      "text/plain": [
       "[<matplotlib.lines.Line2D at 0x7fe51250ca60>]"
      ]
     },
     "execution_count": 4,
     "metadata": {},
     "output_type": "execute_result"
    },
    {
     "data": {
      "image/png": "[encoded data removed]",
      "text/plain": [
       "<Figure size 432x288 with 1 Axes>"
      ]
     },
     "metadata": {
      "needs_background": "light"
     },
     "output_type": "display_data"
    }
   ],
   "source": [
    "Fchip = np.fft.ifft(chip, norm='ortho')\n",
    "plt.plot(np.abs(Fchip)**2, '.')"
   ]
  },
  {
   "cell_type": "code",
   "execution_count": null,
   "id": "packed-payday",
   "metadata": {},
   "outputs": [],
   "source": []
  }
 ],
 "metadata": {
  "kernelspec": {
   "display_name": "Python 3",
   "language": "python",
   "name": "python3"
  },
  "language_info": {
   "codemirror_mode": {
    "name": "ipython",
    "version": 3
   },
   "file_extension": ".py",
   "mimetype": "text/x-python",
   "name": "python",
   "nbconvert_exporter": "python",
   "pygments_lexer": "ipython3",
   "version": "3.8.5"
  }
 },
 "nbformat": 4,
 "nbformat_minor": 5
}
